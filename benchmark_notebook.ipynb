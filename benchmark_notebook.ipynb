{
 "cells": [
  {
   "cell_type": "code",
   "execution_count": 3,
   "metadata": {},
   "outputs": [],
   "source": [
    "import scqubits as scq\n",
    "import numpy as np\n",
    "import scipy as sp\n",
    "import matplotlib.pyplot as plt\n",
    "from time import time\n",
    "import time as tm\n",
    "from tqdm.notebook import tqdm\n",
    "import primme as pr"
   ]
  },
  {
   "cell_type": "code",
   "execution_count": 2,
   "metadata": {},
   "outputs": [],
   "source": [
    "from Spring2023 import scipy_option_tester\n",
    "from Spring2023 import primme_benchmarker"
   ]
  },
  {
   "cell_type": "code",
   "execution_count": 4,
   "metadata": {},
   "outputs": [
    {
     "data": {
      "application/vnd.jupyter.widget-view+json": {
       "model_id": "dcdd2897fa9345368c6f623b16ed2c98",
       "version_major": 2,
       "version_minor": 0
      },
      "text/plain": [
       "HBox(children=(VBox(children=(HBox(children=(Label(value='EJ [GHz]'), FloatText(value=15.0, layout=Layout(widt…"
      ]
     },
     "metadata": {},
     "output_type": "display_data"
    },
    {
     "data": {
      "application/vnd.jupyter.widget-view+json": {
       "model_id": "8aa0c3617e234ea896e0e95b8c39ccf2",
       "version_major": 2,
       "version_minor": 0
      },
      "text/plain": [
       "Output()"
      ]
     },
     "metadata": {},
     "output_type": "display_data"
    }
   ],
   "source": [
    "tmon = scq.Transmon.create()"
   ]
  },
  {
   "cell_type": "code",
   "execution_count": 6,
   "metadata": {},
   "outputs": [
    {
     "ename": "TypeError",
     "evalue": "primme_benchmarker() takes 5 positional arguments but 10 were given",
     "output_type": "error",
     "traceback": [
      "\u001b[0;31m---------------------------------------------------------------------------\u001b[0m",
      "\u001b[0;31mTypeError\u001b[0m                                 Traceback (most recent call last)",
      "\u001b[1;32m/Users/moinak/Documents/College/Year 2/Spring 2023/Research Project/Benchmarking_scqubits/benchmark_notebook.ipynb Cell 4\u001b[0m in \u001b[0;36m<cell line: 1>\u001b[0;34m()\u001b[0m\n\u001b[0;32m----> <a href='vscode-notebook-cell:/Users/moinak/Documents/College/Year%202/Spring%202023/Research%20Project/Benchmarking_scqubits/benchmark_notebook.ipynb#W3sZmlsZQ%3D%3D?line=0'>1</a>\u001b[0m primme_benchmarker(tmon, (\u001b[39m10\u001b[39;49m,\u001b[39m10\u001b[39;49m), \u001b[39m2\u001b[39;49m, \u001b[39m\"\u001b[39;49m\u001b[39mE_J\u001b[39;49m\u001b[39m\"\u001b[39;49m, \u001b[39m10\u001b[39;49m, \u001b[39m20\u001b[39;49m, \u001b[39m\"\u001b[39;49m\u001b[39mncuts\u001b[39;49m\u001b[39m\"\u001b[39;49m, \u001b[39m10\u001b[39;49m, \u001b[39m50\u001b[39;49m, \u001b[39m\"\u001b[39;49m\u001b[39mtmon_heatmap_test\u001b[39;49m\u001b[39m\"\u001b[39;49m)\n",
      "\u001b[0;31mTypeError\u001b[0m: primme_benchmarker() takes 5 positional arguments but 10 were given"
     ]
    }
   ],
   "source": [
    "primme_benchmarker(tmon, (10,10), 2, \"E_J\", 10, 20, \"ncuts\", 10, 50, \"tmon_heatmap_test\")\n"
   ]
  },
  {
   "cell_type": "code",
   "execution_count": null,
   "metadata": {},
   "outputs": [],
   "source": []
  },
  {
   "cell_type": "code",
   "execution_count": null,
   "metadata": {},
   "outputs": [],
   "source": []
  }
 ],
 "metadata": {
  "kernelspec": {
   "display_name": "kochresearch",
   "language": "python",
   "name": "python3"
  },
  "language_info": {
   "codemirror_mode": {
    "name": "ipython",
    "version": 3
   },
   "file_extension": ".py",
   "mimetype": "text/x-python",
   "name": "python",
   "nbconvert_exporter": "python",
   "pygments_lexer": "ipython3",
   "version": "3.10.6"
  },
  "orig_nbformat": 4
 },
 "nbformat": 4,
 "nbformat_minor": 2
}
